{
  "cells": [
    {
      "cell_type": "markdown",
      "metadata": {
        "id": "pB81nTk6S4BR"
      },
      "source": [
        "# Loading Dataset using Kaggle API (~ 30 sec)"
      ]
    },
    {
      "cell_type": "code",
      "source": [
        "# !gdown https://raw.githubusercontent.com/Ishaanshri95/kinda_fruity_brr/main/kaggle.json\n",
        "# !mkdir -p ~/.kaggle\n",
        "# !cp /content/kaggle.json ~/.kaggle/kaggle.json\n",
        "# !chmod 600 /root/.kaggle/kaggle.json\n",
        "# !kaggle datasets download -d moltean/fruits\n",
        "# ![[ ! -d /content/fruits360 ]] && unzip fruits.zip -d /content/fruits360/ &> /dev/null\n",
        "# !rm -r fruits360/fruits-360-original-size/ &> /dev/null\n",
        "# !rm fruits.zip &> /dev/null\n",
        "# # tanmay kulkarni anand mishra m4c 100% working best number 1 punjabi fruits dataset 144p 99.9 test accuracy working yes"
      ],
      "metadata": {
        "id": "csLlG58a9mBA"
      },
      "execution_count": 1,
      "outputs": []
    },
    {
      "cell_type": "code",
      "execution_count": 2,
      "metadata": {
        "colab": {
          "base_uri": "https://localhost:8080/"
        },
        "id": "WIr5ZIJWS51v",
        "outputId": "e9f8362d-ca39-4d2f-ef87-ee84258d9141"
      },
      "outputs": [
        {
          "output_type": "stream",
          "name": "stdout",
          "text": [
            "Downloading...\n",
            "From: https://raw.githubusercontent.com/Ishaanshri95/kinda_fruity_brr/main/kaggle.json\n",
            "To: /content/kaggle.json\n",
            "\r  0% 0.00/87.0 [00:00<?, ?B/s]\r 78% 68.0/87.0 [00:00<00:00, 113kB/s]\n"
          ]
        }
      ],
      "source": [
        "\n",
        "!gdown https://raw.githubusercontent.com/Ishaanshri95/kinda_fruity_brr/main/kaggle.json\n"
      ]
    },
    {
      "cell_type": "code",
      "execution_count": 3,
      "metadata": {
        "id": "kJ0WbwMMU9U8"
      },
      "outputs": [],
      "source": [
        "!mkdir -p ~/.kaggle\n",
        "!cp /content/kaggle.json ~/.kaggle/kaggle.json"
      ]
    },
    {
      "cell_type": "code",
      "execution_count": 4,
      "metadata": {
        "colab": {
          "base_uri": "https://localhost:8080/"
        },
        "id": "WxFVEAzvVYqX",
        "outputId": "1edad6ee-3889-4653-eaa7-b3808c4a08c3"
      },
      "outputs": [
        {
          "output_type": "stream",
          "name": "stdout",
          "text": [
            "Downloading fruits.zip to /content\n",
            " 99% 1.28G/1.28G [00:43<00:00, 75.8MB/s]\n",
            "100% 1.28G/1.28G [00:43<00:00, 31.6MB/s]\n"
          ]
        }
      ],
      "source": [
        "!chmod 600 /root/.kaggle/kaggle.json\n",
        "!kaggle datasets download -d moltean/fruits"
      ]
    },
    {
      "cell_type": "code",
      "execution_count": 5,
      "metadata": {
        "id": "b7ULx2SbVbL6"
      },
      "outputs": [],
      "source": [
        "![[ ! -d /content/fruits360 ]] && unzip fruits.zip -d /content/fruits360/ &> /dev/null\n",
        "!rm -r fruits360/fruits-360-original-size/ &> /dev/null\n",
        "!rm fruits.zip &> /dev/null"
      ]
    },
    {
      "cell_type": "markdown",
      "source": [
        "# Necessary imports, initializations"
      ],
      "metadata": {
        "id": "ZT1D0SzzI2UL"
      }
    },
    {
      "cell_type": "code",
      "execution_count": 6,
      "metadata": {
        "id": "IH0xnhMjA5OJ"
      },
      "outputs": [],
      "source": [
        "%matplotlib inline\n",
        "import matplotlib.pyplot as plt\n",
        "import numpy as np\n",
        "import pandas as pd\n",
        "\n",
        "import os\n",
        "from tqdm import tqdm\n",
        "\n",
        "import PIL \n",
        "\n",
        "import pathlib\n",
        "import tensorflow as tf\n",
        "from tensorflow import keras\n",
        "from tensorflow.keras import layers\n",
        "from tensorflow.python.keras.layers import Dense, Flatten, GlobalAveragePooling2D\n",
        "from tensorflow.keras.models import Sequential\n",
        "from tensorflow.keras.optimizers import Adam\n",
        "\n",
        "from PIL import Image\n",
        "from os import listdir\n",
        "from os.path import isfile, join\n",
        "from IPython.display import clear_output\n",
        "from sklearn.model_selection import train_test_split\n",
        "import random\n",
        "from sklearn.preprocessing import LabelEncoder as LE\n",
        "from sklearn.metrics import accuracy_score, classification_report\n",
        "from sklearn.neighbors import KNeighborsClassifier\n",
        "from sklearn.ensemble import RandomForestClassifier as RFC\n",
        "from sklearn.discriminant_analysis import LinearDiscriminantAnalysis as LDA\n",
        "from sklearn.decomposition import PCA\n",
        "import matplotlib.image as mpimg\n",
        "import cv2\n",
        "import time\n",
        "import bz2\n",
        "import pickle\n",
        "from warnings import filterwarnings\n",
        "filterwarnings(\"ignore\")"
      ]
    },
    {
      "cell_type": "markdown",
      "source": [
        "### Defining folder (class) names"
      ],
      "metadata": {
        "id": "ApeZSDBvQVsI"
      }
    },
    {
      "cell_type": "code",
      "source": [
        "folders = [\"Apple Braeburn\", \"Apple Crimson Snow\", \"Apple Golden 1\", \"Apple Golden 2\", \"Apple Golden 3\", \"Apple Granny Smith\", \"Apple Pink Lady\", \"Apple Red 1\", \"Apple Red 2\"\n",
        ", \"Apple Red 3\",'Apple Red Delicious','Apple Red Yellow 1','Apple Red Yellow 2','Apricot','Avocado','Avocado ripe','Banana','Banana Lady Finger','Banana Red','Beetroot'\n",
        ",'Blueberry','Cactus fruit','Cantaloupe 1','Cantaloupe 2','Carambula','Cauliflower','Cherry 1','Cherry 2','Cherry Rainier','Cherry Wax Black','Cherry Wax Red'\n",
        ",'Cherry Wax Yellow','Chestnut','Clementine','Cocos','Corn','Corn Husk','Cucumber Ripe','Cucumber Ripe 2','Dates','Eggplant','Fig','Ginger Root','Granadilla','Grape Blue'\n",
        ",'Grape Pink','Grape White','Grape White 2','Grape White 3','Grape White 4','Grapefruit Pink','Grapefruit White','Guava','Hazelnut','Huckleberry','Kaki','Kiwi','Kohlrabi'\n",
        ",'Kumquats','Lemon','Lemon Meyer','Limes','Lychee','Mandarine','Mango','Mango Red','Mangostan','Maracuja','Melon Piel de Sapo','Mulberry','Nectarine','Nectarine Flat'\n",
        ",'Nut Forest','Nut Pecan','Onion Red','Onion Red Peeled','Onion White','Orange','Papaya','Passion Fruit','Peach','Peach 2','Peach Flat','Pear','Pear 2','Pear Abate','Pear Forelle'\n",
        ",'Pear Kaiser','Pear Monster','Pear Red','Pear Stone','Pear Williams','Pepino','Pepper Green','Pepper Orange','Pepper Red','Pepper Yellow','Physalis','Physalis with Husk'\n",
        ",'Pineapple','Pineapple Mini','Pitahaya Red','Plum','Plum 2','Plum 3','Pomegranate','Pomelo Sweetie','Potato Red','Potato Red Washed','Potato Sweet','Potato White'\n",
        ",'Quince','Rambutan','Raspberry','Redcurrant','Salak','Strawberry','Strawberry Wedge','Tamarillo','Tangelo','Tomato 1','Tomato 2','Tomato 3','Tomato 4','Tomato Cherry Red'\n",
        ",'Tomato Heart','Tomato Maroon',\"Tomato not Ripened\",\"Tomato Yellow\",\"Walnut\",\"Watermelon\"]"
      ],
      "metadata": {
        "id": "XyEp3iWt6Z_-"
      },
      "execution_count": 7,
      "outputs": []
    },
    {
      "cell_type": "markdown",
      "source": [
        "### Declaring data directories for Training and Testing data"
      ],
      "metadata": {
        "id": "5UD2PYDbQY6n"
      }
    },
    {
      "cell_type": "code",
      "execution_count": 8,
      "metadata": {
        "id": "KnaYj16aA5OM"
      },
      "outputs": [],
      "source": [
        "data_dir = '/content/fruits360/fruits-360_dataset/fruits-360/Training'\n",
        "val_dir  = '/content/fruits360/fruits-360_dataset/fruits-360/Test'\n",
        "# print(os.listdir(data_dir))\n",
        "# classes = os.listdir(data_dir + '/Training')\n",
        "# print(classes)"
      ]
    },
    {
      "cell_type": "markdown",
      "source": [
        "# KNN and Random Forest"
      ],
      "metadata": {
        "id": "lC5Ngae9eUSQ"
      }
    },
    {
      "cell_type": "markdown",
      "source": [
        "### Loading data into numpy array (~ 30 sec)"
      ],
      "metadata": {
        "id": "QwIdV4i_JEu3"
      }
    },
    {
      "cell_type": "code",
      "source": [
        "image_dimensions = (30, 30)\n",
        "\n",
        "def dataloader_numpy(path):\n",
        "  data = []\n",
        "  labels = []\n",
        "  for folder in tqdm(os.listdir(path)):\n",
        "    folderpath = path + '/' + folder\n",
        "    for image in os.listdir(folderpath):\n",
        "      imagepath = folderpath + '/' + image\n",
        "      img = PIL.Image.open(imagepath).convert('RGB').resize(image_dimensions)\n",
        "      # asarray() class is used to convert\n",
        "      # PIL images into NumPy arrays\n",
        "      numpydata = np.asarray(img).flatten()\n",
        "      data.append(numpydata)\n",
        "      labels.append(folders.index(folder))\n",
        "  return data, labels\n",
        "\n",
        "data, labels = dataloader_numpy(data_dir)\n",
        "data_test, labels_test = dataloader_numpy(val_dir)\n",
        "data   = np.array(data)\n",
        "data_test   = np.array(data_test)\n",
        "labels = np.matrix(labels).T\n",
        "labels_test = np.matrix(labels_test).T\n",
        "data = np.asarray(np.concatenate([data,labels], axis = 1))\n",
        "data_test = np.asarray(np.concatenate([data_test,labels_test], axis = 1))\n",
        "data"
      ],
      "metadata": {
        "id": "6kGId3XX6QFw",
        "colab": {
          "base_uri": "https://localhost:8080/"
        },
        "outputId": "10ce350b-e67c-43cc-b6a4-ab5fb61057fa"
      },
      "execution_count": 9,
      "outputs": [
        {
          "output_type": "stream",
          "name": "stderr",
          "text": [
            "100%|██████████| 131/131 [00:40<00:00,  3.20it/s]\n",
            "100%|██████████| 131/131 [00:14<00:00,  8.84it/s]\n"
          ]
        },
        {
          "output_type": "execute_result",
          "data": {
            "text/plain": [
              "array([[255, 255, 255, ..., 255, 255,  35],\n",
              "       [255, 255, 255, ..., 255, 255,  35],\n",
              "       [255, 255, 255, ..., 255, 255,  35],\n",
              "       ...,\n",
              "       [255, 255, 255, ..., 255, 255, 122],\n",
              "       [255, 255, 255, ..., 255, 255, 122],\n",
              "       [255, 255, 255, ..., 255, 255, 122]])"
            ]
          },
          "metadata": {},
          "execution_count": 9
        }
      ]
    },
    {
      "cell_type": "markdown",
      "source": [
        "### Train-Validation Split"
      ],
      "metadata": {
        "id": "kyhreFtM8bhk"
      }
    },
    {
      "cell_type": "code",
      "source": [
        "train, val = train_test_split(data, test_size = 0.3, random_state = 42, stratify = data[:,-1])\n",
        "print(\"Number of unique classes in training set:\", len(np.unique(train[:,-1])))\n",
        "print(\"Number of unique classes in validation set:\", len(np.unique(val[:,-1])))"
      ],
      "metadata": {
        "colab": {
          "base_uri": "https://localhost:8080/"
        },
        "id": "lfzatA38k4KP",
        "outputId": "b5aadcb3-1b55-4364-9205-5e3726f4bdbe"
      },
      "execution_count": 10,
      "outputs": [
        {
          "output_type": "stream",
          "name": "stdout",
          "text": [
            "Number of unique classes in training set: 131\n",
            "Number of unique classes in validation set: 131\n"
          ]
        }
      ]
    },
    {
      "cell_type": "markdown",
      "source": [
        "### Dimensionality Reduction using PCA (~ 4 min)"
      ],
      "metadata": {
        "id": "TX-hTcFQAjYy"
      }
    },
    {
      "cell_type": "code",
      "source": [
        "pca = PCA()\n",
        "pca.fit(train[:,:-1])\n",
        "pca.explained_variance_ratio_"
      ],
      "metadata": {
        "id": "oC6pV5mZAmuF"
      },
      "execution_count": null,
      "outputs": []
    },
    {
      "cell_type": "code",
      "source": [
        "plt.figure(figsize=(10,5))\n",
        "plt.plot(np.cumsum(pca.explained_variance_ratio_[:100]), \"k*-\")\n",
        "plt.xlabel(\"Number of Principal Components chosen\")\n",
        "plt.ylabel(\"Explained Variance Ratio\")\n",
        "plt.show()"
      ],
      "metadata": {
        "id": "Qgh11PcqDKLn"
      },
      "execution_count": null,
      "outputs": []
    },
    {
      "cell_type": "markdown",
      "source": [
        "The first 100 principal components are able to explain > 90% variance of the data."
      ],
      "metadata": {
        "id": "xinBZEYlDXod"
      }
    },
    {
      "cell_type": "code",
      "source": [
        "trainX_pca = pca.transform(train[:,:-1])"
      ],
      "metadata": {
        "id": "wN8yQYgR_oyI"
      },
      "execution_count": null,
      "outputs": []
    },
    {
      "cell_type": "markdown",
      "source": [
        "## Training the Models "
      ],
      "metadata": {
        "id": "CiCCzQPKusSB"
      }
    },
    {
      "cell_type": "markdown",
      "source": [
        "### KNeighboursClassifier (KNN) (~ 3 min)"
      ],
      "metadata": {
        "id": "EWI01dXeLnHo"
      }
    },
    {
      "cell_type": "code",
      "source": [
        "knn = KNeighborsClassifier(n_neighbors = 3)\n",
        "knn.fit(train[:,:-1], train[:,-1])\n",
        "pred = knn.predict(val[:,:-1])\n",
        "print(\"Accuracy on the validation dataset:\", str(np.around(accuracy_score(val[:,-1], pred)*100, decimals = 2)) + \"%\")"
      ],
      "metadata": {
        "id": "TmKoMZuSut7O"
      },
      "execution_count": null,
      "outputs": []
    },
    {
      "cell_type": "markdown",
      "source": [
        "### KNN on PCA transformed dataset (~ 8 min)"
      ],
      "metadata": {
        "id": "B2ywYhdw0R7l"
      }
    },
    {
      "cell_type": "markdown",
      "source": [
        "* Finding the number of best Principal Components to choose"
      ],
      "metadata": {
        "id": "76EfpMZO0VUI"
      }
    },
    {
      "cell_type": "code",
      "source": [
        "acc_train = []\n",
        "acc_val = []\n",
        "\n",
        "n_list = range(10,101,10)\n",
        "\n",
        "for n in tqdm(n_list):\n",
        "  trainX_pca_ = trainX_pca[:,:n]\n",
        "\n",
        "  knn = KNeighborsClassifier(n_neighbors = 3)\n",
        "  knn.fit(trainX_pca_, train[:,-1])\n",
        "  pred = knn.predict(pca.transform(val[:,:-1])[:,:n])\n",
        "  acc_val.append(accuracy_score(val[:,-1], pred)*100)\n",
        "\n",
        "  pred = knn.predict(trainX_pca_)\n",
        "  acc_train.append(accuracy_score(train[:,-1], pred)*100)"
      ],
      "metadata": {
        "id": "caqIpP21Ixlg"
      },
      "execution_count": null,
      "outputs": []
    },
    {
      "cell_type": "code",
      "source": [
        "plt.figure(figsize=(10,5))\n",
        "plt.plot(n_list, acc_train, \"r*-\", label=\"Train Accuracy\")\n",
        "plt.plot(n_list, acc_val, \"b*-\", label=\"Validation Accuracy\")\n",
        "plt.xlabel(\"Number of Principal Components\")\n",
        "plt.ylabel(\"Accuracy (%)\")\n",
        "plt.title(\"PCA Results\")\n",
        "plt.legend()\n",
        "plt.show()"
      ],
      "metadata": {
        "id": "UG5JKCy2INR2"
      },
      "execution_count": null,
      "outputs": []
    },
    {
      "cell_type": "code",
      "source": [
        "n_components = 40 # Using the above graph we select these many best Principal Components \n"
      ],
      "metadata": {
        "id": "1PpWYaJZAGS1"
      },
      "execution_count": null,
      "outputs": []
    },
    {
      "cell_type": "code",
      "source": [
        "trainX_pca_ = trainX_pca[:,:n_components]\n",
        "\n",
        "knn = KNeighborsClassifier(n_neighbors = 3)\n",
        "knn.fit(trainX_pca_, train[:,-1])\n",
        "pred = knn.predict(pca.transform(val[:,:-1])[:,:n_components])\n",
        "print(\"Accuracy on the validation dataset:\", str(np.around(accuracy_score(val[:,-1], pred)*100, decimals = 2)) + \"%\")"
      ],
      "metadata": {
        "id": "d-z_LuCURTlk"
      },
      "execution_count": null,
      "outputs": []
    },
    {
      "cell_type": "markdown",
      "source": [
        "We can see that after applying PCA, the change in accuracy is negligible. However, the number of dimensions has reduced drastically."
      ],
      "metadata": {
        "id": "mKN4g8ZYaH22"
      }
    },
    {
      "cell_type": "markdown",
      "source": [
        "### RandomForestClassifier (~ 7 min)"
      ],
      "metadata": {
        "id": "MMzkpild0y4R"
      }
    },
    {
      "cell_type": "markdown",
      "source": [
        "#### Training the base model (~ 1 min)"
      ],
      "metadata": {
        "id": "twwIARS0Cprk"
      }
    },
    {
      "cell_type": "code",
      "source": [
        "rfc = RFC(max_depth = 10, random_state = 42, verbose = 3, n_jobs = -1)\n",
        "rfc.fit(train[:,:-1], train[:,-1])\n",
        "pred = rfc.predict(val[:,:-1])\n",
        "time.sleep(2)\n",
        "clear_output(wait = True)\n",
        "print(\"Accuracy on the validation dataset:\", str(np.around(accuracy_score(val[:,-1], pred)*100, decimals = 2)) + \"%\")"
      ],
      "metadata": {
        "id": "iRIR4b2s02Xe"
      },
      "execution_count": null,
      "outputs": []
    },
    {
      "cell_type": "markdown",
      "source": [
        "#### Tuning the `max_depth` of RFC (~ 4 min)"
      ],
      "metadata": {
        "id": "9tjDlsWrJlDo"
      }
    },
    {
      "cell_type": "code",
      "source": [
        "acc_train = []\n",
        "acc_val = []\n",
        "\n",
        "md_list = range(2,41,2)\n",
        "\n",
        "for md in tqdm(md_list):\n",
        "  rfc = RFC(n_estimators = 10, max_depth = md, random_state = 42, n_jobs = -1)     # Using low value of n_estimators to speed up the tuning process\n",
        "  rfc.fit(train[:,:-1], train[:,-1])\n",
        "  pred = rfc.predict(val[:,:-1])\n",
        "  acc_val.append(accuracy_score(val[:,-1], pred)*100)\n",
        "\n",
        "  pred = rfc.predict(train[:,:-1])\n",
        "  acc_train.append(accuracy_score(train[:,-1], pred)*100)"
      ],
      "metadata": {
        "id": "iWWEQ5oO1FYW"
      },
      "execution_count": null,
      "outputs": []
    },
    {
      "cell_type": "code",
      "source": [
        "plt.figure(figsize=(10,5))\n",
        "plt.plot(md_list, acc_train, \"r*-\", label=\"Train Accuracy\")\n",
        "plt.plot(md_list, acc_val, \"b*-\", label=\"Validation Accuracy\")\n",
        "plt.xlabel(\"Max Depth\")\n",
        "plt.ylabel(\"Accuracy (%)\")\n",
        "plt.title(\"RFC Results\")\n",
        "plt.legend()\n",
        "plt.show()"
      ],
      "metadata": {
        "id": "FJmMgpc72zLk"
      },
      "execution_count": null,
      "outputs": []
    },
    {
      "cell_type": "markdown",
      "source": [
        "After tuning the `max_depth` for RFC, best value is found to be 20."
      ],
      "metadata": {
        "id": "g-s3QV2uBEj9"
      }
    },
    {
      "cell_type": "markdown",
      "source": [
        "#### Model with best `max_depth` (~ 2 min)"
      ],
      "metadata": {
        "id": "M3Zpn1CEzi7C"
      }
    },
    {
      "cell_type": "code",
      "source": [
        "rfc = RFC(max_depth = 20, random_state = 42, verbose = 3, n_jobs = -1)\n",
        "rfc.fit(train[:,:-1], train[:,-1])\n",
        "pred = rfc.predict(val[:,:-1])\n",
        "time.sleep(2)\n",
        "clear_output(wait = True)\n",
        "print(\"Accuracy on the validation dataset:\", str(np.around(accuracy_score(val[:,-1], pred)*100, decimals = 2)) + \"%\")"
      ],
      "metadata": {
        "id": "bXFwKnAlBKDe"
      },
      "execution_count": null,
      "outputs": []
    },
    {
      "cell_type": "markdown",
      "source": [
        "### RFC on PCA transformed dataset (~ 4 min)"
      ],
      "metadata": {
        "id": "rKmJj_HV2-P0"
      }
    },
    {
      "cell_type": "markdown",
      "source": [
        "#### Finding the number of best Principal Components to choose"
      ],
      "metadata": {
        "id": "YXIakjUh2-P5"
      }
    },
    {
      "cell_type": "code",
      "source": [
        "acc_train = []\n",
        "acc_val = []\n",
        "\n",
        "n_list = range(10,101,10)\n",
        "\n",
        "for n in tqdm(n_list):\n",
        "  trainX_pca_ = trainX_pca[:,:n]\n",
        "\n",
        "  rfc = RFC(n_estimators = 10, max_depth = 20, random_state = 42, n_jobs = -1)     # Using low value of n_estimators to speed up the tuning process\n",
        "  rfc.fit(trainX_pca_, train[:,-1])\n",
        "  pred = rfc.predict(pca.transform(val[:,:-1])[:,:n])\n",
        "  acc_val.append(accuracy_score(val[:,-1], pred)*100)\n",
        "\n",
        "  pred = rfc.predict(trainX_pca_)\n",
        "  acc_train.append(accuracy_score(train[:,-1], pred)*100)"
      ],
      "metadata": {
        "id": "JL0rt6S72-P6"
      },
      "execution_count": null,
      "outputs": []
    },
    {
      "cell_type": "code",
      "source": [
        "plt.figure(figsize=(10,5))\n",
        "plt.plot(n_list, acc_train, \"r*-\", label=\"Train Accuracy\")\n",
        "plt.plot(n_list, acc_val, \"b*-\", label=\"Validation Accuracy\")\n",
        "plt.xlabel(\"Number of Principal Components\")\n",
        "plt.ylabel(\"Accuracy (%)\")\n",
        "plt.title(\"PCA Results\")\n",
        "plt.legend()\n",
        "plt.show()"
      ],
      "metadata": {
        "id": "KHo79c3d2-P6"
      },
      "execution_count": null,
      "outputs": []
    },
    {
      "cell_type": "code",
      "source": [
        "n_components = 20 # Using the above graph we select these many best Principal Components "
      ],
      "metadata": {
        "id": "jA7RoUAV2-P6"
      },
      "execution_count": null,
      "outputs": []
    },
    {
      "cell_type": "code",
      "source": [
        "trainX_pca_ = trainX_pca[:,:n_components]\n",
        "\n",
        "rfc = RFC(max_depth = 20, random_state = 42, n_jobs = -1)\n",
        "rfc.fit(trainX_pca_, train[:,-1])\n",
        "pred = rfc.predict(pca.transform(val[:,:-1])[:,:n_components])\n",
        "print(\"Accuracy on the validation dataset:\", str(np.around(accuracy_score(val[:,-1], pred)*100, decimals = 2)) + \"%\")"
      ],
      "metadata": {
        "id": "3jY807Xq2-P6"
      },
      "execution_count": null,
      "outputs": []
    },
    {
      "cell_type": "markdown",
      "source": [
        "We can see that after applying PCA, the change in accuracy is negligible. However, the number of dimensions has reduced drastically."
      ],
      "metadata": {
        "id": "uwRi0QWS2-P6"
      }
    },
    {
      "cell_type": "markdown",
      "source": [
        "## Evaluating on the Test Dataset"
      ],
      "metadata": {
        "id": "2d1h0x6e3zRH"
      }
    },
    {
      "cell_type": "markdown",
      "source": [
        "### KNN without PCA (~ 20 min)"
      ],
      "metadata": {
        "id": "cAeYby8GCT1B"
      }
    },
    {
      "cell_type": "code",
      "source": [
        "knn = KNeighborsClassifier(n_neighbors = 3)\n",
        "knn.fit(data[:,:-1], data[:,-1])\n",
        "pred = knn.predict(data_test[:,:-1])\n",
        "pred2 = knn.predict(data[:,:-1])\n",
        "print(\"Accuracy on the train dataset:\", str(np.around(accuracy_score(data[:,-1], pred2)*100, decimals = 2)) + \"%\")\n",
        "print(\"Accuracy on the test dataset:\", str(np.around(accuracy_score(data_test[:,-1], pred)*100, decimals = 2)) + \"%\")"
      ],
      "metadata": {
        "id": "G9hFUS9k4jAY",
        "colab": {
          "base_uri": "https://localhost:8080/"
        },
        "outputId": "bd262924-f994-4d77-949f-05c1883081a0"
      },
      "execution_count": 11,
      "outputs": [
        {
          "output_type": "stream",
          "name": "stdout",
          "text": [
            "Accuracy on the train dataset: 99.98%\n",
            "Accuracy on the test dataset: 90.83%\n"
          ]
        }
      ]
    },
    {
      "cell_type": "markdown",
      "source": [
        "### KNN with PCA (~ 3 min)"
      ],
      "metadata": {
        "id": "EnTxUC-MCX6M"
      }
    },
    {
      "cell_type": "code",
      "source": [
        "pca = PCA(n_components = 40)  # Using value obtained earlier\n",
        "knn.fit(pca.fit_transform(data[:,:-1]), data[:,-1])\n",
        "TESTX_pca = pca.transform(data_test[:,:-1])\n",
        "pred = knn.predict(TESTX_pca)\n",
        "pred2 = knn.predict(pca.transform(data[:,:-1]))\n",
        "print(\"Accuracy on the train dataset:\", str(np.around(accuracy_score(data[:,-1], pred2)*100, decimals = 2)) + \"%\")\n",
        "print(\"Accuracy on the test dataset:\", str(np.around(accuracy_score(data_test[:,-1], pred)*100, decimals = 2)) + \"%\")"
      ],
      "metadata": {
        "id": "LqvutusJMKET",
        "colab": {
          "base_uri": "https://localhost:8080/"
        },
        "outputId": "a3693c5e-6cbd-4425-fd99-bf46a6793c75"
      },
      "execution_count": 26,
      "outputs": [
        {
          "output_type": "stream",
          "name": "stdout",
          "text": [
            "Accuracy on the train dataset: 99.98%\n",
            "Accuracy on the test dataset: 91.41%\n"
          ]
        }
      ]
    },
    {
      "cell_type": "markdown",
      "source": [
        "KNN on the PCA transformed data consistently performs better than KNN on the original dataset, although only by a small margin."
      ],
      "metadata": {
        "id": "JNJ1-pQXyhXC"
      }
    },
    {
      "cell_type": "markdown",
      "source": [
        "### RFC without PCA (~ 3 min)"
      ],
      "metadata": {
        "id": "zNWBZLEuCc2r"
      }
    },
    {
      "cell_type": "code",
      "source": [
        "rfc = RFC(max_depth = 20, random_state = 42, verbose = 3, n_jobs = -1)\n",
        "rfc.fit(data[:,:-1], data[:,-1])\n",
        "pred = rfc.predict(data_test[:,:-1])\n",
        "pred2 = rfc.predict(data[:,:-1])\n",
        "time.sleep(2)\n",
        "clear_output(wait = True)\n",
        "print(\"Accuracy on the train dataset:\", str(np.around(accuracy_score(data[:,-1], pred2)*100, decimals = 2)) + \"%\")\n",
        "print(\"Accuracy on the test dataset:\", str(np.around(accuracy_score(data_test[:,-1], pred)*100, decimals = 2)) + \"%\")"
      ],
      "metadata": {
        "colab": {
          "base_uri": "https://localhost:8080/"
        },
        "id": "ttB6nYpkCerd",
        "outputId": "273a203b-8a1d-49b3-ed93-85457e7474d3"
      },
      "execution_count": 25,
      "outputs": [
        {
          "output_type": "stream",
          "name": "stdout",
          "text": [
            "Accuracy on the train dataset: 100.0%\n",
            "Accuracy on the test dataset: 94.46%\n"
          ]
        }
      ]
    },
    {
      "cell_type": "markdown",
      "source": [
        "### RFC with PCA (~ 2 min)"
      ],
      "metadata": {
        "id": "YnMZtd6FD9Wj"
      }
    },
    {
      "cell_type": "code",
      "source": [
        "n_components = 20 # Value obtained earlier for RFC\n",
        "\n",
        "rfc2 = RFC(max_depth = 20, random_state = 42, verbose = 3, n_jobs = -1)\n",
        "rfc2.fit(pca.transform(data[:,:-1])[:,:n_components], data[:,-1]) # Using the same PCA model fomr KNN, but this we take different number of best Principal Components\n",
        "pred = rfc2.predict(TESTX_pca[:,:n_components])\n",
        "pred2 = rfc2.predict(pca.transform(data[:,:-1])[:,:n_components])\n",
        "time.sleep(2)\n",
        "clear_output(wait = True)\n",
        "print(\"Accuracy on the train dataset:\", str(np.around(accuracy_score(data[:,-1], pred2)*100, decimals = 2)) + \"%\")\n",
        "print(\"Accuracy on the test dataset:\", str(np.around(accuracy_score(data_test[:,-1], pred)*100, decimals = 2)) + \"%\")"
      ],
      "metadata": {
        "colab": {
          "base_uri": "https://localhost:8080/"
        },
        "id": "LOgdCNOdEBKH",
        "outputId": "5be7b381-ea78-4288-f719-4bd9d0712ea7"
      },
      "execution_count": 14,
      "outputs": [
        {
          "output_type": "stream",
          "name": "stdout",
          "text": [
            "Accuracy on the train dataset: 99.99%\n",
            "Accuracy on the test dataset: 88.83%\n"
          ]
        }
      ]
    },
    {
      "cell_type": "markdown",
      "source": [
        "# Convolutional Neural Networks"
      ],
      "metadata": {
        "id": "dKcQtDmsdwmW"
      }
    },
    {
      "cell_type": "markdown",
      "source": [
        "## Setting image sizes, batch sizes for keras models"
      ],
      "metadata": {
        "id": "mJ8JM5Z8JWCy"
      }
    },
    {
      "cell_type": "code",
      "source": [
        "img_height, img_width= 192, 192\n",
        "batch_size= 128"
      ],
      "metadata": {
        "id": "Jt5AM6PBJaW2"
      },
      "execution_count": 18,
      "outputs": []
    },
    {
      "cell_type": "markdown",
      "source": [
        "## Loading data for keras models"
      ],
      "metadata": {
        "id": "OOA7u7izJIjz"
      }
    },
    {
      "cell_type": "markdown",
      "source": [
        "### Training"
      ],
      "metadata": {
        "id": "KjErLHQbQe0a"
      }
    },
    {
      "cell_type": "code",
      "execution_count": 19,
      "metadata": {
        "colab": {
          "base_uri": "https://localhost:8080/"
        },
        "id": "rKXfkNT9A5ON",
        "outputId": "815c7899-9e64-43c7-dd75-b9613bb9cc22"
      },
      "outputs": [
        {
          "output_type": "stream",
          "name": "stdout",
          "text": [
            "Found 67692 files belonging to 131 classes.\n"
          ]
        }
      ],
      "source": [
        "train_ds = tf.keras.preprocessing.image_dataset_from_directory(\n",
        "data_dir,\n",
        "# validation_split=0.2,\n",
        "# subset=\"training\",\n",
        "seed=123,\n",
        "label_mode='categorical',\n",
        "image_size=(img_height, img_width),\n",
        "batch_size=batch_size\n",
        ")"
      ]
    },
    {
      "cell_type": "markdown",
      "source": [
        "### Testing"
      ],
      "metadata": {
        "id": "GRPt70amQf6g"
      }
    },
    {
      "cell_type": "code",
      "execution_count": 20,
      "metadata": {
        "colab": {
          "base_uri": "https://localhost:8080/"
        },
        "id": "oCbSxcftA5OP",
        "outputId": "4885a908-e62a-4cd1-a0d1-2ae4365b31a0"
      },
      "outputs": [
        {
          "output_type": "stream",
          "name": "stdout",
          "text": [
            "Found 22688 files belonging to 131 classes.\n"
          ]
        }
      ],
      "source": [
        "val_ds = tf.keras.preprocessing.image_dataset_from_directory(\n",
        "val_dir,\n",
        "# validation_split=0.1,\n",
        "# subset=\"validation\",\n",
        "seed=123,\n",
        "label_mode=\"categorical\",\n",
        "image_size=(img_height, img_width),\n",
        "batch_size=batch_size)"
      ]
    },
    {
      "cell_type": "code",
      "execution_count": 21,
      "metadata": {
        "id": "VhzLFCHOA5OQ"
      },
      "outputs": [],
      "source": [
        "class_names = train_ds.class_names"
      ]
    },
    {
      "cell_type": "markdown",
      "source": [
        "## Fine-Tuning approach with VGG16\n",
        "VGG 16 was proposed by Karen Simonyan and Andrew Zisserman of the Visual Geometry Group Lab of Oxford University in 2014 in the paper “VERY DEEP CONVOLUTIONAL NETWORKS FOR LARGE-SCALE IMAGE RECOGNITION”. This model won the 1st  and 2nd place on the above categories in 2014 ILSVRC challenge. We will now fine tune this model for our classification task."
      ],
      "metadata": {
        "id": "IUrMymb5Ir0c"
      }
    },
    {
      "cell_type": "markdown",
      "source": [
        "### Transfer learning with VGG16 as base model trained on imagenet - **97.7%**\n",
        "The basis of transfer learning is to employ a parent model trained on a large dataset and by freezing the weights of the backbone and adding new fully connected layers for classification, transferring the knowledge of the base model to our new task.\n",
        "\n",
        "The convolutional backbone is frozen and only the fully connected classifier layers are updated while training on the new dataset.\n",
        "\n",
        "This technique is observed to work very well and achieve higher accuracies than an ordinary classifier trained from scratch, and is also less computationally expensive."
      ],
      "metadata": {
        "id": "1MLCNJDLFKVD"
      }
    },
    {
      "cell_type": "code",
      "execution_count": null,
      "metadata": {
        "id": "o_f9ySOlA5OQ",
        "colab": {
          "base_uri": "https://localhost:8080/"
        },
        "outputId": "e8318813-75d5-4725-b9f3-ba3ba6839d98"
      },
      "outputs": [
        {
          "output_type": "stream",
          "name": "stdout",
          "text": [
            "Downloading data from https://storage.googleapis.com/tensorflow/keras-applications/vgg16/vgg16_weights_tf_dim_ordering_tf_kernels_notop.h5\n",
            "58892288/58889256 [==============================] - 0s 0us/step\n",
            "58900480/58889256 [==============================] - 0s 0us/step\n"
          ]
        }
      ],
      "source": [
        "model = Sequential()\n",
        "\n",
        "# pretrained_model = tf.keras.applications. ResNet50         ( include_top=False,\n",
        "# pretrained_model = tf.keras.applications.resnet.ResNet152  ( include_top=False,\n",
        "pretrained_model = tf.keras.applications.vgg16.VGG16       ( include_top=False,\n",
        "# pretrained_model = tf.keras.applications.vgg19.VGG19       ( include_top=False,\n",
        "input_shape=(img_height, img_width,3),\n",
        "classes=131,\n",
        "pooling='avg',\n",
        "weights='imagenet')\n",
        "\n",
        "pretrained_model.trainable = False\n",
        "# for layer in pretrained_model.layers:\n",
        "  # layer.trainable=False\n",
        "  \n",
        "model.add(pretrained_model)\n",
        "model.add(Flatten())\n",
        "model.add(Dense(512, activation='relu'))\n",
        "model.add(Dense(131, activation='softmax'))"
      ]
    },
    {
      "cell_type": "code",
      "execution_count": null,
      "metadata": {
        "id": "khu3PkbwA5OR",
        "colab": {
          "base_uri": "https://localhost:8080/"
        },
        "outputId": "2e84a493-c98f-4253-ed95-1be7b3168cb5"
      },
      "outputs": [
        {
          "output_type": "stream",
          "name": "stdout",
          "text": [
            "Model: \"sequential\"\n",
            "_________________________________________________________________\n",
            " Layer (type)                Output Shape              Param #   \n",
            "=================================================================\n",
            " vgg16 (Functional)          (None, 512)               14714688  \n",
            "                                                                 \n",
            " module_wrapper (ModuleWrapp  (None, 512)              0         \n",
            " er)                                                             \n",
            "                                                                 \n",
            " module_wrapper_1 (ModuleWra  (None, 512)              262656    \n",
            " pper)                                                           \n",
            "                                                                 \n",
            " module_wrapper_2 (ModuleWra  (None, 131)              67203     \n",
            " pper)                                                           \n",
            "                                                                 \n",
            "=================================================================\n",
            "Total params: 15,044,547\n",
            "Trainable params: 329,859\n",
            "Non-trainable params: 14,714,688\n",
            "_________________________________________________________________\n"
          ]
        }
      ],
      "source": [
        "model.summary()"
      ]
    },
    {
      "cell_type": "code",
      "execution_count": null,
      "metadata": {
        "id": "JM8ftah9A5OS"
      },
      "outputs": [],
      "source": [
        "model.compile(optimizer=tf.keras.optimizers.Adam(learning_rate=1e-3), loss='categorical_crossentropy', metrics=['accuracy'])"
      ]
    },
    {
      "cell_type": "markdown",
      "source": [
        "#### Training the model (~28 min)"
      ],
      "metadata": {
        "id": "-mPGa80eQ2wS"
      }
    },
    {
      "cell_type": "code",
      "execution_count": null,
      "metadata": {
        "id": "vnoTSHoFA5OS",
        "colab": {
          "base_uri": "https://localhost:8080/"
        },
        "outputId": "29e383c3-5be6-49ae-d96a-bde44f740a45"
      },
      "outputs": [
        {
          "output_type": "stream",
          "name": "stdout",
          "text": [
            "Epoch 1/4\n",
            "529/529 [==============================] - 455s 824ms/step - loss: 0.3036 - accuracy: 0.9478\n",
            "Epoch 2/4\n",
            "529/529 [==============================] - 430s 811ms/step - loss: 0.0019 - accuracy: 0.9999\n",
            "Epoch 3/4\n",
            "529/529 [==============================] - 430s 810ms/step - loss: 5.8861e-04 - accuracy: 1.0000\n",
            "Epoch 4/4\n",
            "529/529 [==============================] - 429s 810ms/step - loss: 3.2160e-04 - accuracy: 1.0000\n"
          ]
        }
      ],
      "source": [
        "history = model.fit(\n",
        "train_ds,\n",
        "# validation_data=val_ds,\n",
        "epochs=4    # we found 4 epochs to be good enough\n",
        ")"
      ]
    },
    {
      "cell_type": "markdown",
      "source": [
        "#### Evaluating accuracy of transfer learning using VGG16 on test set - **97.8%** (~ 4 min)"
      ],
      "metadata": {
        "id": "vVElNqIpGFe8"
      }
    },
    {
      "cell_type": "code",
      "source": [
        "# results_train = model.evaluate(train_ds, batch_size=128)\n",
        "results_test  = model.evaluate(val_ds,   batch_size=128)\n",
        "# print(\"VGG16  - train loss, train accuracy:\", results_train)\n",
        "print(\"VGG16  - test loss , test acc:      \", results_test)"
      ],
      "metadata": {
        "id": "u7M8WWEEQiY3",
        "colab": {
          "base_uri": "https://localhost:8080/"
        },
        "outputId": "a5ac3e40-58a0-4b95-bec9-f451f09bb342"
      },
      "execution_count": null,
      "outputs": [
        {
          "output_type": "stream",
          "name": "stdout",
          "text": [
            "178/178 [==============================] - 148s 824ms/step - loss: 0.0891 - accuracy: 0.9794\n",
            "VGG16  - test loss , test acc:       [0.08914555609226227, 0.9793723821640015]\n"
          ]
        }
      ]
    },
    {
      "cell_type": "markdown",
      "source": [
        "#### Fine tuning end-to-end\n",
        "Finally, we unfreeze the feature extraction layers and jointly train the entire model again on the training dataset in order to fine-tune the feature extraction layers."
      ],
      "metadata": {
        "id": "PAZTqyhdRdnU"
      }
    },
    {
      "cell_type": "code",
      "source": [
        "pretrained_model.trainable=True\n",
        "model.summary()\n",
        "\n",
        "model.compile(optimizer=tf.keras.optimizers.Adam(learning_rate=1e-6), loss='categorical_crossentropy', metrics=['accuracy'])\n"
      ],
      "metadata": {
        "id": "eGD29UAsRSzj",
        "colab": {
          "base_uri": "https://localhost:8080/"
        },
        "outputId": "02f9784e-75cf-401a-cdd1-6d963db0a5f6"
      },
      "execution_count": null,
      "outputs": [
        {
          "output_type": "stream",
          "name": "stdout",
          "text": [
            "Model: \"sequential\"\n",
            "_________________________________________________________________\n",
            " Layer (type)                Output Shape              Param #   \n",
            "=================================================================\n",
            " vgg16 (Functional)          (None, 512)               14714688  \n",
            "                                                                 \n",
            " module_wrapper (ModuleWrapp  (None, 512)              0         \n",
            " er)                                                             \n",
            "                                                                 \n",
            " module_wrapper_1 (ModuleWra  (None, 512)              262656    \n",
            " pper)                                                           \n",
            "                                                                 \n",
            " module_wrapper_2 (ModuleWra  (None, 131)              67203     \n",
            " pper)                                                           \n",
            "                                                                 \n",
            "=================================================================\n",
            "Total params: 15,044,547\n",
            "Trainable params: 15,044,547\n",
            "Non-trainable params: 0\n",
            "_________________________________________________________________\n",
            "Epoch 1/3\n",
            "529/529 [==============================] - 1478s 3s/step - loss: 1.6537e-05 - accuracy: 1.0000\n",
            "Epoch 2/3\n",
            "529/529 [==============================] - 1456s 3s/step - loss: 1.1367e-06 - accuracy: 1.0000\n",
            "Epoch 3/3\n",
            "529/529 [==============================] - 1441s 3s/step - loss: 4.4963e-07 - accuracy: 1.0000\n"
          ]
        }
      ]
    },
    {
      "cell_type": "markdown",
      "source": [
        "#### Retraining the model (~ 1hr 20 min)"
      ],
      "metadata": {
        "id": "UzU3z58NiSI-"
      }
    },
    {
      "cell_type": "code",
      "source": [
        "history2 = model.fit(train_ds,epochs=3)"
      ],
      "metadata": {
        "id": "9WvcJUeLiL1n"
      },
      "execution_count": null,
      "outputs": []
    },
    {
      "cell_type": "markdown",
      "source": [
        "#### Evaluating accuracy of fine-tuned model on test set - **98.3%** (~ 4 min)\n",
        "As expected, there is a small but noticeable spike in the test accuracy. This is because fine tuning allows the model to slightly modify the feature extraction layer parameters in order to be able to extract even better features than before. "
      ],
      "metadata": {
        "id": "mAAo8n_lGTjy"
      }
    },
    {
      "cell_type": "code",
      "source": [
        "# results_train = model.evaluate(train_ds, batch_size=128)\n",
        "results_test  = model.evaluate(val_ds,   batch_size=128)\n",
        "# print(\"VGG16  - train loss, train accuracy:\", results_train)\n",
        "print(\"VGG16  - test loss , test acc:      \", results_test)"
      ],
      "metadata": {
        "id": "O-8XacHqSIAP",
        "colab": {
          "base_uri": "https://localhost:8080/"
        },
        "outputId": "2a1c0bac-7675-4bd3-a7b6-755054d4eee1"
      },
      "execution_count": null,
      "outputs": [
        {
          "output_type": "stream",
          "name": "stdout",
          "text": [
            "178/178 [==============================] - 150s 834ms/step - loss: 0.1252 - accuracy: 0.9829\n",
            "VGG16  - test loss , test acc:       [0.12520484626293182, 0.982942521572113]\n"
          ]
        }
      ]
    },
    {
      "cell_type": "markdown",
      "source": [
        "## Transfer learning with other ILSVRC models\n",
        "Here we have tried transfer learning successfully on some other pretrained models from ILSVRC.\n",
        "\n",
        "1. VGG16 &nbsp;&nbsp;&nbsp;&nbsp;&nbsp;&nbsp;&nbsp;&nbsp;&nbsp;&nbsp; - 97.7%\n",
        "2. VGG19 &nbsp;&nbsp;&nbsp;&nbsp;&nbsp;&nbsp;&nbsp;&nbsp;&nbsp;&nbsp;     - 97.3%\n",
        "3. ResNet50 &nbsp;&nbsp;&nbsp; &nbsp; - 98.5%\n",
        "4. ResNet152 &nbsp;&nbsp;&nbsp; - 98.5% (can improve if trained longer)"
      ],
      "metadata": {
        "id": "ms4lgkqmRbgE"
      }
    },
    {
      "cell_type": "code",
      "source": [
        "epochs = 10"
      ],
      "metadata": {
        "id": "pYpDzApKHFXu"
      },
      "execution_count": null,
      "outputs": []
    },
    {
      "cell_type": "markdown",
      "source": [
        "### Transfer learning - VGG16 (test accuracy - **97.7%**) (~ 50 min)"
      ],
      "metadata": {
        "id": "m4zIL-FoHHYP"
      }
    },
    {
      "cell_type": "code",
      "source": [
        "pretrained_model = tf.keras.applications.vgg16.VGG16       ( include_top=False,input_shape=(img_height, img_width,3),classes=131,pooling='avg',weights='imagenet')\n",
        "for layer in pretrained_model.layers: layer.trainable=False\n",
        "model_VGG16     = Sequential([pretrained_model, Flatten(), Dense(512, activation='relu'), Dense(131, activation='softmax')])\n",
        "model_VGG16.compile(optimizer=tf.keras.optimizers.Adam(learning_rate=1e-3), loss='categorical_crossentropy', metrics=['accuracy'])\n",
        "\n",
        "history_VGG16   = model_VGG16.fit(train_ds,epochs=epochs)\n",
        "results_train = model_VGG16    .evaluate(train_ds, batch_size=batch_size)\n",
        "results_test  = model_VGG16    .evaluate(val_ds,   batch_size=batch_size)\n",
        "print(\"VGG16      - train loss, train accuracy:\", results_train)\n",
        "print(\"VGG16      - test loss , test acc:      \", results_test)"
      ],
      "metadata": {
        "id": "PdELSKneRhxR",
        "colab": {
          "base_uri": "https://localhost:8080/"
        },
        "outputId": "885531aa-ecf7-45fe-bd6d-3981ffa35e85"
      },
      "execution_count": null,
      "outputs": [
        {
          "output_type": "stream",
          "name": "stdout",
          "text": [
            "Epoch 1/10\n",
            "529/529 [==============================] - 262s 492ms/step - loss: 0.3575 - accuracy: 0.9427\n",
            "Epoch 2/10\n",
            "529/529 [==============================] - 261s 493ms/step - loss: 0.0043 - accuracy: 0.9995\n",
            "Epoch 3/10\n",
            "529/529 [==============================] - 261s 493ms/step - loss: 0.0011 - accuracy: 0.9999\n",
            "Epoch 4/10\n",
            "529/529 [==============================] - 261s 493ms/step - loss: 3.1903e-04 - accuracy: 1.0000\n",
            "Epoch 5/10\n",
            "529/529 [==============================] - 262s 493ms/step - loss: 1.9431e-04 - accuracy: 1.0000\n",
            "Epoch 6/10\n",
            "529/529 [==============================] - 261s 492ms/step - loss: 1.2883e-04 - accuracy: 1.0000\n",
            "Epoch 7/10\n",
            "529/529 [==============================] - 261s 492ms/step - loss: 8.8969e-05 - accuracy: 1.0000\n",
            "Epoch 8/10\n",
            "529/529 [==============================] - 261s 493ms/step - loss: 6.2500e-05 - accuracy: 1.0000\n",
            "Epoch 9/10\n",
            "529/529 [==============================] - 261s 492ms/step - loss: 4.4649e-05 - accuracy: 1.0000\n",
            "Epoch 10/10\n",
            "529/529 [==============================] - 261s 492ms/step - loss: 3.2221e-05 - accuracy: 1.0000\n",
            "529/529 [==============================] - 261s 492ms/step - loss: 2.6502e-05 - accuracy: 1.0000\n",
            "178/178 [==============================] - 90s 503ms/step - loss: 0.1063 - accuracy: 0.9774\n",
            "VGG16      - train loss, train accuracy: [2.6501802494749427e-05, 1.0]\n",
            "VGG16      - test loss , test acc:       [0.10625088959932327, 0.9774330258369446]\n"
          ]
        }
      ]
    },
    {
      "cell_type": "markdown",
      "source": [
        "### Transfer learning - VGG19 (test accuracy - **97.3%**) (~ 1 hr)"
      ],
      "metadata": {
        "id": "3X_U8jgJHP6v"
      }
    },
    {
      "cell_type": "code",
      "source": [
        "pretrained_model = tf.keras.applications.vgg19.VGG19       ( include_top=False,input_shape=(img_height, img_width,3),classes=131,pooling='avg',weights='imagenet')\n",
        "for layer in pretrained_model.layers: layer.trainable=False\n",
        "model_VGG19     = Sequential([pretrained_model, Flatten(), Dense(512, activation='relu'), Dense(131, activation='softmax')])\n",
        "model_VGG19.compile(optimizer=tf.keras.optimizers.Adam(learning_rate=1e-3), loss='categorical_crossentropy', metrics=['accuracy'])\n",
        "\n",
        "history_VGG19   = model_VGG19.fit(train_ds,epochs=epochs)\n",
        "results_train = model_VGG19    .evaluate(train_ds, batch_size=batch_size)\n",
        "results_test  = model_VGG19    .evaluate(val_ds,   batch_size=batch_size)\n",
        "print(\"VGG19      - train loss, train accuracy:\", results_train)\n",
        "print(\"VGG19      - test loss , test acc:      \", results_test)"
      ],
      "metadata": {
        "id": "DD75Vj54RiNm",
        "colab": {
          "base_uri": "https://localhost:8080/"
        },
        "outputId": "f53be6ef-45b2-41cf-a1ce-67b7d798c616"
      },
      "execution_count": null,
      "outputs": [
        {
          "output_type": "stream",
          "name": "stdout",
          "text": [
            "Epoch 1/10\n",
            "529/529 [==============================] - 309s 582ms/step - loss: 0.2949 - accuracy: 0.9457\n",
            "Epoch 2/10\n",
            "529/529 [==============================] - 309s 582ms/step - loss: 0.0043 - accuracy: 0.9995\n",
            "Epoch 3/10\n",
            "529/529 [==============================] - 309s 582ms/step - loss: 6.8209e-04 - accuracy: 1.0000\n",
            "Epoch 4/10\n",
            "529/529 [==============================] - 309s 582ms/step - loss: 3.6394e-04 - accuracy: 1.0000\n",
            "Epoch 5/10\n",
            "529/529 [==============================] - 308s 582ms/step - loss: 2.1683e-04 - accuracy: 1.0000\n",
            "Epoch 6/10\n",
            "529/529 [==============================] - 309s 582ms/step - loss: 1.4057e-04 - accuracy: 1.0000\n",
            "Epoch 7/10\n",
            "529/529 [==============================] - 309s 582ms/step - loss: 9.5181e-05 - accuracy: 1.0000\n",
            "Epoch 8/10\n",
            "529/529 [==============================] - 309s 582ms/step - loss: 6.6018e-05 - accuracy: 1.0000\n",
            "Epoch 9/10\n",
            "529/529 [==============================] - 308s 582ms/step - loss: 4.6847e-05 - accuracy: 1.0000\n",
            "Epoch 10/10\n",
            "529/529 [==============================] - 309s 582ms/step - loss: 3.3465e-05 - accuracy: 1.0000\n",
            "529/529 [==============================] - 309s 582ms/step - loss: 2.8498e-05 - accuracy: 1.0000\n",
            "178/178 [==============================] - 104s 579ms/step - loss: 0.1167 - accuracy: 0.9731\n",
            "VGG19      - train loss, train accuracy: [2.849811062333174e-05, 1.0]\n",
            "VGG19      - test loss , test acc:       [0.11665065586566925, 0.9731135368347168]\n"
          ]
        }
      ]
    },
    {
      "cell_type": "markdown",
      "source": [
        "### Transfer learning - ResNet50 (test accuracy - **98.5%**) (~ 35 min)"
      ],
      "metadata": {
        "id": "UUAVCE0EHQbU"
      }
    },
    {
      "cell_type": "code",
      "source": [
        "pretrained_model = tf.keras.applications. ResNet50         ( include_top=False,input_shape=(img_height, img_width,3),classes=131,pooling='avg',weights='imagenet')\n",
        "for layer in pretrained_model.layers: layer.trainable=False\n",
        "model_ResNet50     = Sequential([pretrained_model, Flatten(), Dense(512, activation='relu'), Dense(131, activation='softmax')])\n",
        "model_ResNet50.compile(optimizer=tf.keras.optimizers.Adam(learning_rate=1e-3), loss='categorical_crossentropy', metrics=['accuracy'])\n",
        "\n",
        "history_ResNet50   = model_ResNet50.fit(train_ds,epochs=epochs)\n",
        "results_train = model_ResNet50 .evaluate(train_ds, batch_size=batch_size)\n",
        "results_test  = model_ResNet50 .evaluate(val_ds,   batch_size=batch_size)\n",
        "print(\"ResNet50   - train loss, train accuracy:\", results_train)\n",
        "print(\"ResNet50   - test loss , test acc:      \", results_test)"
      ],
      "metadata": {
        "id": "-RfTs3lOQeyl",
        "colab": {
          "base_uri": "https://localhost:8080/"
        },
        "outputId": "68c74868-52bf-4801-edb2-2e1f784f6385"
      },
      "execution_count": null,
      "outputs": [
        {
          "output_type": "stream",
          "name": "stdout",
          "text": [
            "Epoch 1/10\n",
            "529/529 [==============================] - 206s 298ms/step - loss: 0.1893 - accuracy: 0.9644\n",
            "Epoch 2/10\n",
            "529/529 [==============================] - 160s 302ms/step - loss: 0.0025 - accuracy: 1.0000\n",
            "Epoch 3/10\n",
            "529/529 [==============================] - 158s 298ms/step - loss: 8.2049e-04 - accuracy: 1.0000\n",
            "Epoch 4/10\n",
            "529/529 [==============================] - 160s 302ms/step - loss: 4.1838e-04 - accuracy: 1.0000\n",
            "Epoch 5/10\n",
            "529/529 [==============================] - 158s 298ms/step - loss: 2.3962e-04 - accuracy: 1.0000\n",
            "Epoch 6/10\n",
            "529/529 [==============================] - 160s 302ms/step - loss: 1.4593e-04 - accuracy: 1.0000\n",
            "Epoch 7/10\n",
            "529/529 [==============================] - 160s 302ms/step - loss: 9.2273e-05 - accuracy: 1.0000\n",
            "Epoch 8/10\n",
            "529/529 [==============================] - 159s 299ms/step - loss: 6.0867e-05 - accuracy: 1.0000\n",
            "Epoch 9/10\n",
            "529/529 [==============================] - 160s 302ms/step - loss: 4.1571e-05 - accuracy: 1.0000\n",
            "Epoch 10/10\n",
            "529/529 [==============================] - 158s 297ms/step - loss: 2.9041e-05 - accuracy: 1.0000\n",
            "529/529 [==============================] - 161s 301ms/step - loss: 2.3760e-05 - accuracy: 1.0000\n",
            "178/178 [==============================] - 54s 301ms/step - loss: 0.0607 - accuracy: 0.9851\n",
            "ResNet50   - train loss, train accuracy: [2.3759776013321243e-05, 1.0]\n",
            "ResNet50   - test loss , test acc:       [0.06066836789250374, 0.9850581884384155]\n"
          ]
        }
      ]
    },
    {
      "cell_type": "markdown",
      "source": [
        "### Transfer learning - ResNet152 (test accuracy - **98.5**%) (~ 35 min)\n",
        "(did not converge, could be trained longer for better results)"
      ],
      "metadata": {
        "id": "-LfdZYeGHZTM"
      }
    },
    {
      "cell_type": "code",
      "source": [
        "pretrained_model = tf.keras.applications.resnet.ResNet152(\n",
        "    include_top=False,\n",
        "    input_shape=(img_height, img_width,3),\n",
        "    classes=131,\n",
        "    pooling='avg',\n",
        "    weights='imagenet')\n",
        "for layer in pretrained_model.layers: \n",
        "  layer.trainable=False\n",
        "model_ResNet152 = Sequential([pretrained_model, Flatten(), Dense(512, activation='relu'), Dense(131, activation='softmax')])\n",
        "model_ResNet152.compile(optimizer=tf.keras.optimizers.Adam(learning_rate=1e-3), loss='categorical_crossentropy', metrics=['accuracy'])\n",
        "\n",
        "history_ResNet152   = model_ResNet152.fit(train_ds,epochs=epochs)\n",
        "results_train = model_ResNet152.evaluate(train_ds, batch_size=batch_size)\n",
        "results_test  = model_ResNet152.evaluate(val_ds,   batch_size=batch_size)\n",
        "print(\"ResNet152  - train loss, train accuracy:\", results_train)\n",
        "print(\"ResNet152  - test loss , test acc:      \", results_test)"
      ],
      "metadata": {
        "id": "4jk7tOrNRirv",
        "colab": {
          "base_uri": "https://localhost:8080/"
        },
        "outputId": "403fa0f4-a799-4fa0-d940-d75fca7780c3"
      },
      "execution_count": null,
      "outputs": [
        {
          "output_type": "stream",
          "name": "stdout",
          "text": [
            "Epoch 1/10\n",
            "529/529 [==============================] - 387s 692ms/step - loss: 0.1712 - accuracy: 0.9668\n",
            "Epoch 2/10\n",
            "529/529 [==============================] - 385s 726ms/step - loss: 0.0021 - accuracy: 0.9999\n",
            "Epoch 3/10\n",
            "529/529 [==============================] - 388s 732ms/step - loss: 5.7372e-04 - accuracy: 1.0000\n",
            "Epoch 4/10\n",
            "529/529 [==============================] - 375s 708ms/step - loss: 3.0034e-04 - accuracy: 1.0000\n",
            "Epoch 5/10\n",
            "529/529 [==============================] - 386s 729ms/step - loss: 1.7399e-04 - accuracy: 1.0000\n",
            "Epoch 6/10\n",
            "529/529 [==============================] - 387s 730ms/step - loss: 1.0885e-04 - accuracy: 1.0000\n",
            "Epoch 7/10\n",
            "529/529 [==============================] - 377s 711ms/step - loss: 7.1407e-05 - accuracy: 1.0000\n",
            "Epoch 8/10\n",
            "529/529 [==============================] - 385s 727ms/step - loss: 4.8318e-05 - accuracy: 1.0000\n",
            "Epoch 9/10\n",
            "529/529 [==============================] - 375s 708ms/step - loss: 3.3675e-05 - accuracy: 1.0000\n",
            "Epoch 10/10\n",
            "529/529 [==============================] - 387s 730ms/step - loss: 2.3953e-05 - accuracy: 1.0000\n",
            "529/529 [==============================] - 378s 709ms/step - loss: 1.9464e-05 - accuracy: 1.0000\n",
            "178/178 [==============================] - 130s 729ms/step - loss: 0.0800 - accuracy: 0.9852\n",
            "ResNet152  - train loss, train accuracy: [1.946371230587829e-05, 1.0]\n",
            "ResNet152  - test loss , test acc:       [0.07997732609510422, 0.9851903915405273]\n"
          ]
        }
      ]
    },
    {
      "cell_type": "markdown",
      "source": [
        "## CNN from scratch - (test accuracy - **96.9%**)"
      ],
      "metadata": {
        "id": "uNBQseu3dtNi"
      }
    },
    {
      "cell_type": "markdown",
      "source": [
        "### Defining model architecture"
      ],
      "metadata": {
        "id": "ScGO_591dtNi"
      }
    },
    {
      "cell_type": "code",
      "source": [
        "from keras.layers import Dense, Conv2D, Flatten, AveragePooling2D, Flatten\n",
        "\n",
        "model_CNN = Sequential()\n",
        "model_CNN.add(Conv2D(32, (3, 3), activation='relu', kernel_initializer='he_uniform', padding='same', input_shape=(img_height, img_width, 3)))\n",
        "model_CNN.add(Conv2D(32, (3, 3), activation='relu', kernel_initializer='he_uniform', padding='same'))\n",
        "model_CNN.add(Conv2D(32, (3, 3), activation='relu', kernel_initializer='he_uniform', padding='same'))\n",
        "model_CNN.add(AveragePooling2D((2, 2)))\n",
        "model_CNN.add(Conv2D(32, (3, 3), activation='relu', kernel_initializer='he_uniform', padding='same'))\n",
        "model_CNN.add(Conv2D(32, (3, 3), activation='relu', kernel_initializer='he_uniform', padding='same'))\n",
        "model_CNN.add(Conv2D(32, (3, 3), activation='relu', kernel_initializer='he_uniform', padding='same'))\n",
        "model_CNN.add(AveragePooling2D((2, 2)))\n",
        "model_CNN.add(Conv2D(64, (3, 3), activation='relu', kernel_initializer='he_uniform', padding='same'))\n",
        "# model_CNN.add(Conv2D(64, (3, 3), activation='relu', kernel_initializer='he_uniform', padding='same'))\n",
        "# model_CNN.add(Conv2D(64, (3, 3), activation='relu', kernel_initializer='he_uniform', padding='same'))\n",
        "model_CNN.add(AveragePooling2D((2, 2)))\n",
        "model_CNN.add(Conv2D(64, (3, 3), activation='relu', kernel_initializer='he_uniform', padding='same'))\n",
        "# model_CNN.add(Conv2D(64, (3, 3), activation='relu', kernel_initializer='he_uniform', padding='same'))\n",
        "# model_CNN.add(Conv2D(64, (3, 3), activation='relu', kernel_initializer='he_uniform', padding='same'))\n",
        "model_CNN.add(AveragePooling2D((2, 2)))\n",
        "model_CNN.add(Conv2D(128, (3, 3), activation='relu', kernel_initializer='he_uniform', padding='same'))\n",
        "# model_CNN.add(Conv2D(128, (3, 3), activation='relu', kernel_initializer='he_uniform', padding='same'))\n",
        "# model_CNN.add(Conv2D(128, (3, 3), activation='relu', kernel_initializer='he_uniform', padding='same'))\n",
        "model_CNN.add(AveragePooling2D((2, 2)))\n",
        "model_CNN.add(Conv2D(128, (3, 3), activation='relu', kernel_initializer='he_uniform', padding='same'))\n",
        "# model_CNN.add(Conv2D(128, (3, 3), activation='relu', kernel_initializer='he_uniform', padding='same'))\n",
        "# model_CNN.add(Conv2D(128, (3, 3), activation='relu', kernel_initializer='he_uniform', padding='same'))\n",
        "model_CNN.add(AveragePooling2D((2, 2)))\n",
        "model_CNN.add(Flatten())\n",
        "model_CNN.add(Dense(1024, activation='relu'))\n",
        "model_CNN.add(Dense(512, activation='relu'))\n",
        "model_CNN.add(Dense(131, activation='softmax'))\n",
        "\n",
        "model_CNN.summary()"
      ],
      "metadata": {
        "colab": {
          "base_uri": "https://localhost:8080/"
        },
        "outputId": "e13a544a-57ea-4276-9f36-504e3408555e",
        "id": "UujfOWSqdtNj"
      },
      "execution_count": 22,
      "outputs": [
        {
          "output_type": "stream",
          "name": "stdout",
          "text": [
            "Model: \"sequential_1\"\n",
            "_________________________________________________________________\n",
            " Layer (type)                Output Shape              Param #   \n",
            "=================================================================\n",
            " conv2d (Conv2D)             (None, 192, 192, 32)      896       \n",
            "                                                                 \n",
            " conv2d_1 (Conv2D)           (None, 192, 192, 32)      9248      \n",
            "                                                                 \n",
            " conv2d_2 (Conv2D)           (None, 192, 192, 32)      9248      \n",
            "                                                                 \n",
            " average_pooling2d (AverageP  (None, 96, 96, 32)       0         \n",
            " ooling2D)                                                       \n",
            "                                                                 \n",
            " conv2d_3 (Conv2D)           (None, 96, 96, 32)        9248      \n",
            "                                                                 \n",
            " conv2d_4 (Conv2D)           (None, 96, 96, 32)        9248      \n",
            "                                                                 \n",
            " conv2d_5 (Conv2D)           (None, 96, 96, 32)        9248      \n",
            "                                                                 \n",
            " average_pooling2d_1 (Averag  (None, 48, 48, 32)       0         \n",
            " ePooling2D)                                                     \n",
            "                                                                 \n",
            " conv2d_6 (Conv2D)           (None, 48, 48, 64)        18496     \n",
            "                                                                 \n",
            " average_pooling2d_2 (Averag  (None, 24, 24, 64)       0         \n",
            " ePooling2D)                                                     \n",
            "                                                                 \n",
            " conv2d_7 (Conv2D)           (None, 24, 24, 64)        36928     \n",
            "                                                                 \n",
            " average_pooling2d_3 (Averag  (None, 12, 12, 64)       0         \n",
            " ePooling2D)                                                     \n",
            "                                                                 \n",
            " conv2d_8 (Conv2D)           (None, 12, 12, 128)       73856     \n",
            "                                                                 \n",
            " average_pooling2d_4 (Averag  (None, 6, 6, 128)        0         \n",
            " ePooling2D)                                                     \n",
            "                                                                 \n",
            " conv2d_9 (Conv2D)           (None, 6, 6, 128)         147584    \n",
            "                                                                 \n",
            " average_pooling2d_5 (Averag  (None, 3, 3, 128)        0         \n",
            " ePooling2D)                                                     \n",
            "                                                                 \n",
            " flatten (Flatten)           (None, 1152)              0         \n",
            "                                                                 \n",
            " dense (Dense)               (None, 1024)              1180672   \n",
            "                                                                 \n",
            " dense_1 (Dense)             (None, 512)               524800    \n",
            "                                                                 \n",
            " dense_2 (Dense)             (None, 131)               67203     \n",
            "                                                                 \n",
            "=================================================================\n",
            "Total params: 2,096,675\n",
            "Trainable params: 2,096,675\n",
            "Non-trainable params: 0\n",
            "_________________________________________________________________\n"
          ]
        }
      ]
    },
    {
      "cell_type": "code",
      "source": [
        "from keras.utils.vis_utils import plot_model\n",
        "plot_model(model_CNN, to_file='model_plot.png', show_shapes=True, show_layer_names=True)"
      ],
      "metadata": {
        "id": "F4JErMgWooK5",
        "colab": {
          "base_uri": "https://localhost:8080/",
          "height": 1000
        },
        "outputId": "3c1563b9-9e35-4571-9629-b86b9b26965c"
      },
      "execution_count": 23,
      "outputs": [
        {
          "output_type": "execute_result",
          "data": {
            "text/plain": [
              "<IPython.core.display.Image object>"
            ],
            "image/png": "[encoded data removed]"
          },
          "metadata": {},
          "execution_count": 23
        }
      ]
    },
    {
      "cell_type": "markdown",
      "source": [
        "### Training model (~ 45 min)"
      ],
      "metadata": {
        "id": "N79a6uP0dtNj"
      }
    },
    {
      "cell_type": "code",
      "source": [
        "model_CNN.compile(optimizer=tf.keras.optimizers.Adam(learning_rate=3e-4), loss='categorical_crossentropy', metrics=['accuracy'])\n",
        "epochs = 5\n",
        "history_CNN = model_CNN.fit(train_ds,epochs=epochs)"
      ],
      "metadata": {
        "colab": {
          "base_uri": "https://localhost:8080/"
        },
        "outputId": "e4209be4-4932-40ca-a869-074593ae8d58",
        "id": "BLul8CQmdtNk"
      },
      "execution_count": null,
      "outputs": [
        {
          "output_type": "stream",
          "name": "stdout",
          "text": [
            "Epoch 1/5\n",
            "529/529 [==============================] - 551s 1s/step - loss: 2.1880 - accuracy: 0.8354\n",
            "Epoch 2/5\n",
            "529/529 [==============================] - 537s 1s/step - loss: 0.0422 - accuracy: 0.9886\n",
            "Epoch 3/5\n",
            "529/529 [==============================] - 534s 1s/step - loss: 0.0102 - accuracy: 0.9975\n",
            "Epoch 4/5\n",
            "529/529 [==============================] - 534s 1s/step - loss: 0.0443 - accuracy: 0.9880\n",
            "Epoch 5/5\n",
            "529/529 [==============================] - 534s 1s/step - loss: 0.0131 - accuracy: 0.9967\n"
          ]
        }
      ]
    },
    {
      "cell_type": "markdown",
      "source": [
        "### Evaluation of model performance on test and train (~ 7 min)"
      ],
      "metadata": {
        "id": "rP7rYDn5dtNk"
      }
    },
    {
      "cell_type": "code",
      "source": [
        "results_train = model_CNN    .evaluate(train_ds, batch_size=batch_size)\n",
        "results_test  = model_CNN.evaluate(val_ds,   batch_size=batch_size)\n",
        "print(\"CNN      - train loss, train accuracy:\", results_train)\n",
        "print(\"CNN      - test loss , test acc:      \", results_test)"
      ],
      "metadata": {
        "colab": {
          "base_uri": "https://localhost:8080/"
        },
        "outputId": "83eb3331-4322-49f5-8cb6-8e476a4f3d2a",
        "id": "hrdAUK7cdtNk"
      },
      "execution_count": null,
      "outputs": [
        {
          "output_type": "stream",
          "name": "stdout",
          "text": [
            "529/529 [==============================] - 218s 410ms/step - loss: 0.0018 - accuracy: 0.9994\n",
            "178/178 [==============================] - 76s 418ms/step - loss: 0.1367 - accuracy: 0.9689\n",
            "CNN      - train loss, train accuracy: [0.0018226815154775977, 0.9994386434555054]\n",
            "CNN      - test loss , test acc:       [0.13673284649848938, 0.9689263105392456]\n"
          ]
        }
      ]
    },
    {
      "cell_type": "markdown",
      "source": [
        "# Pipeline"
      ],
      "metadata": {
        "id": "BdZW8L7Mxyfn"
      }
    },
    {
      "cell_type": "markdown",
      "source": [
        "Here we have defined a class Pipeline which loads the final saved model from GitHub and uses it to make prediction for a single image whose path is provided by the user. Broadly, it carries out the following tasks:\n",
        "* Loads pretrained model\n",
        "* Loads given image and processes it\n",
        "* Predicts the class of given image"
      ],
      "metadata": {
        "id": "nGEoy9ozDl5d"
      }
    },
    {
      "cell_type": "code",
      "source": [
        "class Pipeline:\n",
        "\n",
        "  def __predict_single_img_class(self, path, model_object):                  # important for the backend to function smoothly\n",
        "    image_x = self.__load_image(path)\n",
        "    y_pred = model_object.predict(image_x)\n",
        "    y_classes_pred = y_pred.argmax(axis=-1)\n",
        "    y_class_labels = np.array(sorted(self.__folders))[y_classes_pred]\n",
        "    label = y_class_labels[0]\n",
        "    return label\n",
        "\n",
        "  def __display_single_img(self, image_obj):\n",
        "    plt.imshow(image_obj)\n",
        "    plt.title(\"Input Image\")\n",
        "    plt.show()\n",
        "  \n",
        "  def __load_image(self, path):                                # load image from provided path and convert it to rgb and rescale it to 1./255\n",
        "    img = Image.open(path)\n",
        "    self.__display_single_img(img)\n",
        "    img = img.convert('RGB')\n",
        "    img = img.resize(self.__image_dimensions_no_channels)\n",
        "    img = np.array(img)\n",
        "    img = img / 255.\n",
        "    img = img[np.newaxis, :]\n",
        "    return img\n",
        "\n",
        "  def __load_model(self, git_path, model_name):\n",
        "        \n",
        "    # download the model save file from the github repo\n",
        "    os.system(f'rm -rf my_model.zip')\n",
        "    os.system(f'git clone {git_path}')\n",
        "    os.system(f'mv /content/tester2/{model_name}.zip /content/')\n",
        "    os.system(f'rm -rf tester2')\n",
        "    os.system(f'rm -rf content')\n",
        "    os.system(f'rm -rf my_model')\n",
        "    os.system(f'mv /content/{model_name}.zip /content/my_model.zip')\n",
        "\n",
        "    # loads the model from the zip file my_model.zip in the current working directory\n",
        "    os.system(f'unzip /content/my_model.zip -d /content/my_model')\n",
        "    self.__model = keras.models.load_model(f\"my_model/content/{model_name}\")\n",
        "    os.system(f'rm -rf /content/my_model')                    # remove the now unnecessary folder generated by the unzipping\n",
        "\n",
        "  def summary(self):\n",
        "    return self.__model.summary()\n",
        "\n",
        "  def __init__(self):\n",
        "    self.__image_dimensions_no_channels = (96, 96)\n",
        "    self.__folders = sorted([\"Apple Braeburn\", \"Apple Crimson Snow\", \"Apple Golden 1\", \"Apple Golden 2\", \"Apple Golden 3\", \"Apple Granny Smith\", \"Apple Pink Lady\", \"Apple Red 1\", \"Apple Red 2\", \"Apple Red 3\",'Apple Red Delicious','Apple Red Yellow 1','Apple Red Yellow 2','Apricot','Avocado','Avocado ripe','Banana','Banana Lady Finger','Banana Red','Beetroot','Blueberry','Cactus fruit','Cantaloupe 1','Cantaloupe 2','Carambula','Cauliflower','Cherry 1','Cherry 2','Cherry Rainier','Cherry Wax Black','Cherry Wax Red','Cherry Wax Yellow','Chestnut','Clementine','Cocos','Corn','Corn Husk','Cucumber Ripe','Cucumber Ripe 2','Dates','Eggplant','Fig','Ginger Root','Granadilla','Grape Blue','Grape Pink','Grape White','Grape White 2','Grape White 3','Grape White 4','Grapefruit Pink','Grapefruit White','Guava','Hazelnut','Huckleberry','Kaki','Kiwi','Kohlrabi','Kumquats','Lemon','Lemon Meyer','Limes','Lychee','Mandarine','Mango','Mango Red','Mangostan','Maracuja','Melon Piel de Sapo','Mulberry','Nectarine','Nectarine Flat','Nut Forest','Nut Pecan','Onion Red','Onion Red Peeled','Onion White','Orange','Papaya','Passion Fruit','Peach','Peach 2','Peach Flat','Pear','Pear 2','Pear Abate','Pear Forelle','Pear Kaiser','Pear Monster','Pear Red','Pear Stone','Pear Williams','Pepino','Pepper Green','Pepper Orange','Pepper Red','Pepper Yellow','Physalis','Physalis with Husk','Pineapple','Pineapple Mini','Pitahaya Red','Plum','Plum 2','Plum 3','Pomegranate','Pomelo Sweetie','Potato Red','Potato Red Washed','Potato Sweet','Potato White','Quince','Rambutan','Raspberry','Redcurrant','Salak','Strawberry','Strawberry Wedge','Tamarillo','Tangelo','Tomato 1','Tomato 2','Tomato 3','Tomato 4','Tomato Cherry Red','Tomato Heart','Tomato Maroon',\"Tomato not Ripened\",\"Tomato Yellow\",\"Walnut\",\"Watermelon\"])\n",
        "    self.__load_model('https://github.com/Ishaanshri95/tester2.git', 'vgg16_96x96')\n",
        "  \n",
        "  def predict(self, path_img):\n",
        "    print('Predicted image as:', self.__predict_single_img_class(path_img, self.__model))\n",
        "    return\n"
      ],
      "metadata": {
        "id": "wa7l3BVGxz-U"
      },
      "execution_count": null,
      "outputs": []
    },
    {
      "cell_type": "markdown",
      "source": [
        "### Demonstrating the Pipeline"
      ],
      "metadata": {
        "id": "WAvX_bo0FiVw"
      }
    },
    {
      "cell_type": "code",
      "source": [
        "pipe = Pipeline() # Initialising the Pipeline\n",
        "pipe.summary()  # Printing the summary of the Pipeline Model"
      ],
      "metadata": {
        "colab": {
          "base_uri": "https://localhost:8080/"
        },
        "id": "BeSvTNd2EUmO",
        "outputId": "88d10d67-d231-45e1-f1f4-99b519c985b1"
      },
      "execution_count": null,
      "outputs": [
        {
          "output_type": "stream",
          "name": "stdout",
          "text": [
            "Model: \"model\"\n",
            "_________________________________________________________________\n",
            " Layer (type)                Output Shape              Param #   \n",
            "=================================================================\n",
            " input_1 (InputLayer)        [(None, 96, 96, 3)]       0         \n",
            "                                                                 \n",
            " block1_conv1 (Conv2D)       (None, 96, 96, 64)        1792      \n",
            "                                                                 \n",
            " block1_conv2 (Conv2D)       (None, 96, 96, 64)        36928     \n",
            "                                                                 \n",
            " block1_pool (MaxPooling2D)  (None, 48, 48, 64)        0         \n",
            "                                                                 \n",
            " block2_conv1 (Conv2D)       (None, 48, 48, 128)       73856     \n",
            "                                                                 \n",
            " block2_conv2 (Conv2D)       (None, 48, 48, 128)       147584    \n",
            "                                                                 \n",
            " block2_pool (MaxPooling2D)  (None, 24, 24, 128)       0         \n",
            "                                                                 \n",
            " block3_conv1 (Conv2D)       (None, 24, 24, 256)       295168    \n",
            "                                                                 \n",
            " block3_conv2 (Conv2D)       (None, 24, 24, 256)       590080    \n",
            "                                                                 \n",
            " block3_conv3 (Conv2D)       (None, 24, 24, 256)       590080    \n",
            "                                                                 \n",
            " block3_pool (MaxPooling2D)  (None, 12, 12, 256)       0         \n",
            "                                                                 \n",
            " block4_conv1 (Conv2D)       (None, 12, 12, 512)       1180160   \n",
            "                                                                 \n",
            " block4_conv2 (Conv2D)       (None, 12, 12, 512)       2359808   \n",
            "                                                                 \n",
            " block4_conv3 (Conv2D)       (None, 12, 12, 512)       2359808   \n",
            "                                                                 \n",
            " block4_pool (MaxPooling2D)  (None, 6, 6, 512)         0         \n",
            "                                                                 \n",
            " block5_conv1 (Conv2D)       (None, 6, 6, 512)         2359808   \n",
            "                                                                 \n",
            " block5_conv2 (Conv2D)       (None, 6, 6, 512)         2359808   \n",
            "                                                                 \n",
            " block5_conv3 (Conv2D)       (None, 6, 6, 512)         2359808   \n",
            "                                                                 \n",
            " block5_pool (MaxPooling2D)  (None, 3, 3, 512)         0         \n",
            "                                                                 \n",
            " flatten (Flatten)           (None, 4608)              0         \n",
            "                                                                 \n",
            " dense (Dense)               (None, 1024)              4719616   \n",
            "                                                                 \n",
            " dense_1 (Dense)             (None, 131)               134275    \n",
            "                                                                 \n",
            "=================================================================\n",
            "Total params: 19,568,579\n",
            "Trainable params: 4,853,891\n",
            "Non-trainable params: 14,714,688\n",
            "_________________________________________________________________\n"
          ]
        }
      ]
    },
    {
      "cell_type": "code",
      "source": [
        "img_path = '/content/fruits360/fruits-360_dataset/fruits-360/Test/Pear 2/16_100.jpg'\n",
        "pipe.predict(img_path)  # Making a prediction using the Pipeline "
      ],
      "metadata": {
        "colab": {
          "base_uri": "https://localhost:8080/",
          "height": 300
        },
        "id": "1BUwzyi3Fecx",
        "outputId": "5d108511-6c6a-404c-b22b-2a5f7d915583"
      },
      "execution_count": null,
      "outputs": [
        {
          "output_type": "display_data",
          "data": {
            "text/plain": [
              "<Figure size 432x288 with 1 Axes>"
            ],
            "image/png": "[encoded data removed]"
          },
          "metadata": {
            "needs_background": "light"
          }
        },
        {
          "output_type": "stream",
          "name": "stdout",
          "text": [
            "Predicted image as: Pear 2\n"
          ]
        }
      ]
    }
  ],
  "metadata": {
    "interpreter": {
      "hash": "9bf2ca0f4a7adc3ce2f237ca763c1538d3ef289a4e7face3612a01cdae9f6807"
    },
    "kernelspec": {
      "display_name": "Python 3.10.4 64-bit",
      "language": "python",
      "name": "python3"
    },
    "language_info": {
      "codemirror_mode": {
        "name": "ipython",
        "version": 3
      },
      "file_extension": ".py",
      "mimetype": "text/x-python",
      "name": "python",
      "nbconvert_exporter": "python",
      "pygments_lexer": "ipython3",
      "version": "3.8.0"
    },
    "orig_nbformat": 4,
    "colab": {
      "name": "Fruits360_B20AI013_B20CS071.ipynb",
      "provenance": [],
      "collapsed_sections": [
        "pB81nTk6S4BR",
        "ZT1D0SzzI2UL",
        "QwIdV4i_JEu3",
        "kyhreFtM8bhk",
        "TX-hTcFQAjYy",
        "CiCCzQPKusSB",
        "EWI01dXeLnHo",
        "B2ywYhdw0R7l",
        "MMzkpild0y4R",
        "rKmJj_HV2-P0",
        "YXIakjUh2-P5",
        "dKcQtDmsdwmW",
        "IUrMymb5Ir0c",
        "ms4lgkqmRbgE",
        "ScGO_591dtNi",
        "BdZW8L7Mxyfn",
        "WAvX_bo0FiVw"
      ]
    },
    "accelerator": "GPU"
  },
  "nbformat": 4,
  "nbformat_minor": 0
}